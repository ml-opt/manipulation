{
 "cells": [
  {
   "cell_type": "markdown",
   "metadata": {},
   "source": [
    "# Detecting Electoral Manipulation under Borda Voting Rule\n",
    "\n",
    "This notebook contains the presentation code for the paper: Detecting Electoral Manipulation under Borda Voting Rule.\n",
    "\n",
    "We conduct an experimental study of a linear time election manipulation detection algorithm using several syntethically generated permutations that can be seen as votes in an election. The notebook is divided in three sections:\n",
    "\n",
    "- `Preliminaries` section installs and configures all the dependendencies required by the notebook.\n",
    "- `Syntetic Data` section that deals with the experiments related to measure the accuracy of the proposed algorithm."
   ]
  },
  {
   "cell_type": "markdown",
   "metadata": {},
   "source": [
    "## Preliminaries"
   ]
  },
  {
   "cell_type": "markdown",
   "metadata": {},
   "source": [
    "### Imports and general configurations"
   ]
  },
  {
   "cell_type": "code",
   "execution_count": null,
   "metadata": {},
   "outputs": [],
   "source": [
    "import os, time, random, math\n",
    "import mallows_kendall as mk\n",
    "import mallows_model as mm\n",
    "import numpy as np \n",
    "import scipy as sp\n",
    "import seaborn as sns\n",
    "import matplotlib.pyplot as plt\n",
    "import pandas as pd \n",
    "import permutil as pu\n",
    "from scipy.cluster.hierarchy import dendrogram\n",
    "from sklearn.cluster import AgglomerativeClustering\n",
    "from sklearn.metrics import accuracy_score\n",
    "from scipy.spatial.distance import pdist, squareform, cdist"
   ]
  },
  {
   "cell_type": "code",
   "execution_count": null,
   "metadata": {},
   "outputs": [],
   "source": [
    "sns.set(rc={'figure.figsize':(15.7,8.27)})\n",
    "sns.set_style(\"white\")"
   ]
  },
  {
   "cell_type": "code",
   "execution_count": null,
   "metadata": {},
   "outputs": [],
   "source": [
    "from scipy.cluster.hierarchy import ClusterWarning\n",
    "from warnings import simplefilter\n",
    "simplefilter(\"ignore\", ClusterWarning)"
   ]
  },
  {
   "cell_type": "code",
   "execution_count": null,
   "metadata": {},
   "outputs": [],
   "source": [
    "clustering = AgglomerativeClustering(n_clusters=2, linkage=\"single\")"
   ]
  },
  {
   "cell_type": "markdown",
   "metadata": {},
   "source": [
    "### Auxiliary functions"
   ]
  },
  {
   "cell_type": "code",
   "execution_count": null,
   "metadata": {},
   "outputs": [],
   "source": [
    "def compute_lower_bound(n, phi = .5):\n",
    "    s = 0\n",
    "    N = n*(n-1)/2\n",
    "    theta = mm.phi_to_theta(phi)\n",
    "    psi = np.prod(np.array([(1 - np.exp(( - n + j ) * theta))/(1 - np.exp(-theta)) for j in range(n-1)]))\n",
    "    for d in range(int(N), int(math.ceil(N/2))-1, -1):\n",
    "        s = s + np.exp(-theta*d)/psi*mk.num_perms_at_dist(n)[n, :int(N/2)+1][d-int(math.ceil(N/2))]\n",
    "    return s"
   ]
  },
  {
   "cell_type": "markdown",
   "metadata": {},
   "source": [
    "#### Hoeffding's bounds"
   ]
  },
  {
   "cell_type": "code",
   "execution_count": null,
   "metadata": {},
   "outputs": [],
   "source": [
    "def compute_upper_bound(barS, n):\n",
    "    return np.exp(-barS ** 2 / (n * (n - 1)))"
   ]
  },
  {
   "cell_type": "markdown",
   "metadata": {},
   "source": [
    "#### Expected distance"
   ]
  },
  {
   "cell_type": "code",
   "execution_count": null,
   "metadata": {},
   "outputs": [],
   "source": [
    "def barS_mallows(n, phi):\n",
    "    u1, u2, u3 = 0, 0, 0\n",
    "\n",
    "    for i in range(n):\n",
    "        for j in range(n):\n",
    "            if i<j:\n",
    "                hij = (j - i + 1) / (1 - phi ** (j - i + 1)) - (j - i) / (1 - phi ** (j - i))\n",
    "\n",
    "                u1 = u1 + 2 * hij - 2 * hij ** 2\n",
    "                u2 = u2 + hij + (1 - hij) - 2 * (1 - hij) * hij\n",
    "\n",
    "    barS = u2 - u1\n",
    "    return barS"
   ]
  },
  {
   "cell_type": "code",
   "execution_count": null,
   "metadata": {},
   "outputs": [],
   "source": [
    "def barS_plackett(n, w):\n",
    "    u1, u2, u3 = 0, 0, 0\n",
    "    \n",
    "    for i in range(n):\n",
    "        for j in range(n):\n",
    "            if i < j:\n",
    "                hij = w[i] / (w[i] + w[j])\n",
    "                u1 = u1 + 2 * hij - 2 * hij ** 2\n",
    "                u2 = u2 + hij + (1 - hij) - 2 * (1 - hij) * hij\n",
    "    barS = u2 - u1\n",
    "    return barS "
   ]
  },
  {
   "cell_type": "markdown",
   "metadata": {},
   "source": [
    "## Mallows Models"
   ]
  },
  {
   "cell_type": "markdown",
   "metadata": {},
   "source": [
    "#### Generate samples using Mallows Models"
   ]
  },
  {
   "cell_type": "code",
   "execution_count": null,
   "metadata": {},
   "outputs": [],
   "source": [
    "def sample_single_mallows(center, n=10, m=100, param=0.1):\n",
    "    sample = mk.samplingMM(phi=param, m=m, n=n)\n",
    "    sample = [pu.compose(perm, center) for perm in sample]\n",
    "    return sample"
   ]
  },
  {
   "cell_type": "code",
   "execution_count": null,
   "metadata": {},
   "outputs": [],
   "source": [
    "def sampler_mallows(n=10, m=100, param=0.1):\n",
    "    center_1 = [i for i in range(n)]\n",
    "    c1 = sample_single_mallows(center_1, n=n, m=m, param=param)\n",
    "    \n",
    "    center_2 = center_1[::-1]\n",
    "    c2 = sample_single_mallows(center_2, n=n, m=m, param=param)\n",
    "    \n",
    "    c1 = [l.tolist() for l in c1]\n",
    "    c2 = [l.tolist() for l in c2]\n",
    "    C = c1 + c2\n",
    "\n",
    "    return C, center_1, center_2"
   ]
  },
  {
   "cell_type": "markdown",
   "metadata": {},
   "source": [
    "#### Runner"
   ]
  },
  {
   "cell_type": "code",
   "execution_count": null,
   "metadata": {},
   "outputs": [],
   "source": [
    "def run_experiments_mallows(k, params, max_n=20, m=100, rep=100):\n",
    "    Param, N = [], []\n",
    "    Empirical, UpperB, LowerB = [], [], []\n",
    "    \n",
    "    for rep in range(rep):\n",
    "        for n in range (3, max_n, 1):\n",
    "            for param in params:\n",
    "\n",
    "                C, center_1, center_2 = sampler_mallows(n=n, m=m, param=param)\n",
    "                \n",
    "                # Remove the winner from the whole sample\n",
    "                wi = n-1\n",
    "                for i in range(len(C)): \n",
    "                    rank = list(C[i])\n",
    "                    rank.remove(wi)\n",
    "                    C[i] = rank\n",
    "                center_1.remove(wi)\n",
    "                center_2.remove(wi)\n",
    "                \n",
    "                indexes = [i for i in range(k)] + [i for i in range(len(C) - k, len(C))]\n",
    "                sampleK = [C[i] for i in indexes]\n",
    "                \n",
    "                \n",
    "                # Count distances to apply a full clustering \n",
    "                D = pdist(sampleK, metric=mk.kendallTau) \n",
    "                D = squareform(D)\n",
    "                D = pd.DataFrame(D)\n",
    "                \n",
    "                # Apply a full hierarchichal clustering algorithm on D\n",
    "                predicted = clustering.fit_predict(D)  \n",
    "                \n",
    "                cluster_1 = [a for a, b in zip(sampleK, predicted) if b] \n",
    "                cluster_2 = [a for a, b in zip(sampleK, predicted) if not b]\n",
    "                \n",
    "                dist1 = np.mean(cdist(cluster_1, [center_1], metric=mk.kendallTau))\n",
    "                dist2 = np.mean(cdist(cluster_2, [center_1], metric=mk.kendallTau))\n",
    "                \n",
    "                if dist1 > dist2:\n",
    "                    cluster_1, cluster_2 = cluster_2, cluster_1\n",
    "                    predicted = [1 if i==0 else 0 for i in predicted]\n",
    "                else:\n",
    "                    predicted = list(predicted)\n",
    "                    \n",
    "                # Loop over all elements of 1st component\n",
    "                count = 0\n",
    "                barS = barS_mallows(n=n, phi=param)\n",
    "                for i in range(k, int(len(C)) - k):\n",
    "                    \n",
    "                    alpha = C[i]\n",
    "                    \n",
    "                    mean1 = np.mean(cdist([alpha], cluster_2, metric=mk.kendallTau))\n",
    "                    mean2 = np.mean(cdist([alpha], cluster_1, metric=mk.kendallTau))\n",
    "                    S = mean1 - mean2\n",
    "\n",
    "                    if len(C) / 2 <= i:\n",
    "                        S = -S\n",
    "                    \n",
    "                    if np.abs(barS - S) > barS:\n",
    "                        count = count + 1\n",
    "\n",
    "                Param.append(param)\n",
    "                N.append(n)\n",
    "                Empirical.append(count / (int(len(C)) - 2 * k))\n",
    "                UpperB.append(compute_upper_bound(barS, n))\n",
    "                LowerB.append(compute_lower_bound(n = n, phi=param))\n",
    "                \n",
    "    return  Param, N, Empirical, UpperB, LowerB"
   ]
  },
  {
   "cell_type": "markdown",
   "metadata": {},
   "source": [
    "#### Experiments"
   ]
  },
  {
   "cell_type": "code",
   "execution_count": null,
   "metadata": {},
   "outputs": [],
   "source": [
    "Phi, N, Empirical, UpperB, LowerB = run_experiments_mallows(params=[0.1, 0.3, 0.5], k=3)"
   ]
  },
  {
   "cell_type": "markdown",
   "metadata": {},
   "source": [
    "#### Plotting results"
   ]
  },
  {
   "cell_type": "code",
   "execution_count": null,
   "metadata": {},
   "outputs": [],
   "source": [
    "df1 = pd.DataFrame({\"$\\phi$\": Phi, \"n\": N, \"Error\": Empirical, \"Error type\":\"Empirical\"})\n",
    "df2 = pd.DataFrame({\"$\\phi$\": Phi, \"n\": N, \"Error\": LowerB,    \"Error type\":\"Lower bound\"})\n",
    "df3 = pd.DataFrame({\"$\\phi$\": Phi, \"n\": N, \"Error\": UpperB,    \"Error type\":\"Upper bound\"})\n",
    "df = pd.concat([df1, df2, df3], ignore_index=True)"
   ]
  },
  {
   "cell_type": "code",
   "execution_count": null,
   "metadata": {},
   "outputs": [],
   "source": [
    "fig = plt.figure()\n",
    "fig, axs = plt.subplots(1, 3, figsize=(15, 4))\n",
    "palette = sns.color_palette(\"gray\", 3)\n",
    "\n",
    "axs[0].set_title(\"Dispersion $\\phi = 0.1$\")\n",
    "axs[1].set_title(\"Dispersion $\\phi = 0.3$\")\n",
    "axs[2].set_title(\"Dispersion $\\phi = 0.5$\")\n",
    "\n",
    "line=sns.lineplot(data=df[df[\"$\\phi$\"]==0.1], x=\"n\", y=\"Error\", style=\"Error type\", hue=\"Error type\", ax=axs[0], palette=palette)\n",
    "line=sns.lineplot(data=df[df[\"$\\phi$\"]==0.3], x=\"n\", y=\"Error\", style=\"Error type\", hue=\"Error type\", ax=axs[1], palette=palette)\n",
    "line=sns.lineplot(data=df[df[\"$\\phi$\"]==0.5], x=\"n\", y=\"Error\", style=\"Error type\", hue=\"Error type\", ax=axs[2], palette=palette)\n",
    "\n",
    "plt.tight_layout()"
   ]
  },
  {
   "cell_type": "code",
   "execution_count": null,
   "metadata": {},
   "outputs": [],
   "source": [
    "fig.savefig(\"img/MM.pdf\", bbox_inches='tight')"
   ]
  },
  {
   "cell_type": "markdown",
   "metadata": {},
   "source": [
    "## Plackett-Luce"
   ]
  },
  {
   "cell_type": "markdown",
   "metadata": {},
   "source": [
    "#### Plackett-Luce sample"
   ]
  },
  {
   "cell_type": "code",
   "execution_count": null,
   "metadata": {},
   "outputs": [],
   "source": [
    "def plackett_luce_sample(n, m, w=None):\n",
    "    sample = np.zeros((m, n))\n",
    "    \n",
    "    if w is None: \n",
    "        w = np.array([np.exp(i) for i in reversed(range(n))])\n",
    "        \n",
    "    for idx in range(m):\n",
    "        ordering = []\n",
    "        bucket = np.arange(n, dtype=int) \n",
    "        for i in range(n):\n",
    "            j = np.random.choice(bucket, p=w[bucket] / w[bucket].sum())\n",
    "            ordering.append(j)\n",
    "            bucket = bucket[bucket != j]\n",
    "        sample[idx] = np.argsort(ordering).copy()\n",
    "    return sample"
   ]
  },
  {
   "cell_type": "code",
   "execution_count": null,
   "metadata": {},
   "outputs": [],
   "source": [
    "def generate_samples_plackett(n, m, w):\n",
    "    center = [i for i in range(n)]\n",
    "    c1 = plackett_luce_sample(m=m, n=n, w=w)\n",
    "    c1 = [pu.compose(perm, center) for perm in c1]\n",
    "\n",
    "    C = [l.tolist() for l in c1]\n",
    "    return C, center"
   ]
  },
  {
   "cell_type": "code",
   "execution_count": null,
   "metadata": {},
   "outputs": [],
   "source": [
    "def sampler_plackett(n=10, m=100, param=1):\n",
    "    w = np.array([np.exp((n - i) / param) for i in range(n)])\n",
    "    c1, center_1 = generate_samples_plackett(n=n, m=m, w=w)\n",
    "\n",
    "    w = np.array([np.exp(i / param) for i in range(n)])\n",
    "    c2, center_2 = generate_samples_plackett(n=n, m=m, w=w)\n",
    "    C = [*c1, *c2]\n",
    "    \n",
    "    return C, center_1, center_2"
   ]
  },
  {
   "cell_type": "markdown",
   "metadata": {},
   "source": [
    "#### Runner"
   ]
  },
  {
   "cell_type": "code",
   "execution_count": null,
   "metadata": {},
   "outputs": [],
   "source": [
    "def run_experiments_plackett(k, params, max_n=20, m=100, rep=100):\n",
    "    Param, N = [], []\n",
    "    Empirical, UpperB, LowerB = [], [], []\n",
    "    \n",
    "    for rep in range(rep):\n",
    "        for n in range (3, max_n, 1):\n",
    "            for param in params:\n",
    "\n",
    "                C, center_1, center_2 = sampler_plackett(n=n, m=m, param=param)\n",
    "                \n",
    "                # Remove the winner from the whole sample\n",
    "                wi = n-1\n",
    "                for i in range(len(C)): \n",
    "                    rank = list(C[i])\n",
    "                    rank.remove(wi)\n",
    "                    C[i] = rank\n",
    "                center_1.remove(wi)\n",
    "                center_2.remove(wi)\n",
    "                \n",
    "                indexes = [i for i in range(k)] + [i for i in range(len(C) - k, len(C))]\n",
    "                sampleK = [C[i] for i in indexes]\n",
    "                \n",
    "                \n",
    "                # Count distances to apply a full clustering \n",
    "                D = pdist(sampleK, metric=mk.kendallTau) \n",
    "                D = squareform(D)\n",
    "                D = pd.DataFrame(D)\n",
    "                \n",
    "                # Apply a full hierarchichal clustering algorithm on D\n",
    "                predicted = clustering.fit_predict(D)  \n",
    "                \n",
    "                cluster_1 = [a for a, b in zip(sampleK, predicted) if b] \n",
    "                cluster_2 = [a for a, b in zip(sampleK, predicted) if not b]\n",
    "                \n",
    "                dist1 = np.mean(cdist(cluster_1, [center_1], metric=mk.kendallTau))\n",
    "                dist2 = np.mean(cdist(cluster_2, [center_1], metric=mk.kendallTau))\n",
    "                \n",
    "                if dist1 > dist2:\n",
    "                    cluster_1, cluster_2 = cluster_2, cluster_1\n",
    "                    predicted = [1 if i==0 else 0 for i in predicted]\n",
    "                else:\n",
    "                    predicted = list(predicted)\n",
    "                    \n",
    "                # Loop over all elements of 1st component\n",
    "                count = 0\n",
    "                barS = barS_plackett(n=n, w=np.array([np.exp(i / param) for i in range(n)]))\n",
    "                for i in range(k, int(len(C)) - k):\n",
    "                    \n",
    "                    alpha = C[i]\n",
    "                    \n",
    "                    mean1 = np.mean(cdist([alpha], cluster_2, metric=mk.kendallTau))\n",
    "                    mean2 = np.mean(cdist([alpha], cluster_1, metric=mk.kendallTau))\n",
    "                    S = mean1 - mean2\n",
    "\n",
    "                    if len(C) / 2 <= i:\n",
    "                        S = -S\n",
    "                    \n",
    "                    if np.abs(barS - S) > barS:\n",
    "                        count = count + 1\n",
    "\n",
    "                Param.append(param)\n",
    "                N.append(n)\n",
    "                Empirical.append(count / (int(len(C)) - 2 * k))\n",
    "                UpperB.append(compute_upper_bound(barS, n))\n",
    "                \n",
    "    return  Param, N, Empirical, UpperB"
   ]
  },
  {
   "cell_type": "markdown",
   "metadata": {},
   "source": [
    "#### Experiments"
   ]
  },
  {
   "cell_type": "code",
   "execution_count": null,
   "metadata": {},
   "outputs": [],
   "source": [
    "Z, N, Empirical, UpperB = run_experiments_plackett(params=[1, 2, 3], k=3)"
   ]
  },
  {
   "cell_type": "markdown",
   "metadata": {},
   "source": [
    "#### Plotting results"
   ]
  },
  {
   "cell_type": "code",
   "execution_count": null,
   "metadata": {},
   "outputs": [],
   "source": [
    "df1 = pd.DataFrame({\"$z$\": Z, \"n\": N, \"Error\": Empirical, \"Error type\":\"Empirical\"})\n",
    "df2 = pd.DataFrame({\"$z$\": Z, \"n\": N, \"Error\": UpperB,    \"Error type\":\"Upper Bound\"})\n",
    "df  = pd.concat([df1, df2], ignore_index=True)"
   ]
  },
  {
   "cell_type": "code",
   "execution_count": null,
   "metadata": {},
   "outputs": [],
   "source": [
    "fig = plt.figure()\n",
    "fig, axs = plt.subplots(1, 3, figsize=(15, 4))\n",
    "palette = sns.color_palette(\"gray\", 2)\n",
    "\n",
    "axs[0].set_title(\"Model $z = 1$\")\n",
    "axs[1].set_title(\"Model $z = 2$\")\n",
    "axs[2].set_title(\"Model $z = 3$\")\n",
    "\n",
    "line=sns.lineplot(data=df[df[\"$z$\"]==1], x=\"n\", y=\"Error\", style=\"Error type\", hue=\"Error type\", ax=axs[0], palette=palette)\n",
    "line=sns.lineplot(data=df[df[\"$z$\"]==2], x=\"n\", y=\"Error\", style=\"Error type\", hue=\"Error type\", ax=axs[1], palette=palette)\n",
    "line=sns.lineplot(data=df[df[\"$z$\"]==3], x=\"n\", y=\"Error\", style=\"Error type\", hue=\"Error type\", ax=axs[2], palette=palette)\n",
    "\n",
    "plt.tight_layout()"
   ]
  },
  {
   "cell_type": "code",
   "execution_count": null,
   "metadata": {},
   "outputs": [],
   "source": [
    "fig.savefig(\"img/PL.pdf\", bbox_inches='tight')"
   ]
  }
 ],
 "metadata": {
  "kernelspec": {
   "display_name": "Python 3",
   "language": "python",
   "name": "python3"
  },
  "language_info": {
   "codemirror_mode": {
    "name": "ipython",
    "version": 3
   },
   "file_extension": ".py",
   "mimetype": "text/x-python",
   "name": "python",
   "nbconvert_exporter": "python",
   "pygments_lexer": "ipython3",
   "version": "3.8.10"
  }
 },
 "nbformat": 4,
 "nbformat_minor": 5
}
